{
 "cells": [
  {
   "cell_type": "markdown",
   "metadata": {},
   "source": [
    "# CSE474/574 - Programming Assignment 2"
   ]
  },
  {
   "cell_type": "markdown",
   "metadata": {},
   "source": [
    "## Part 2 - Image Classification with Multi-layer Perceptrons\n",
    "\n",
    "Additional library requirement: `Pillow`. See [here](https://anaconda.org/anaconda/pillow) for installation instructions."
   ]
  },
  {
   "cell_type": "code",
   "execution_count": null,
   "metadata": {},
   "outputs": [],
   "source": [
    "import numpy as np\n",
    "import pickle\n",
    "from PIL import Image\n",
    "import matplotlib.pyplot as plt\n",
    "from scipy.optimize import minimize\n",
    "import time\n",
    "from math import sqrt\n",
    "import nnFunctions\n",
    "import importlib\n",
    "%matplotlib inline"
   ]
  },
  {
   "cell_type": "code",
   "execution_count": null,
   "metadata": {},
   "outputs": [],
   "source": [
    "# run this cell if you modified the nnFunctions.py file and you wish to reload the module\n",
    "importlib.reload(nnFunctions)"
   ]
  },
  {
   "cell_type": "code",
   "execution_count": null,
   "metadata": {},
   "outputs": [],
   "source": [
    "classes = ['apple', 'airplane', 'basketball', 'axe', 'banana', 'horse', 'arm', 'alarm clock', 'ant', 'bed']"
   ]
  },
  {
   "cell_type": "code",
   "execution_count": null,
   "metadata": {},
   "outputs": [],
   "source": [
    "# load data\n",
    "train_data,train_label,test_data,test_label = pickle.load(open('AI_quick_draw_sm.pickle','rb'))"
   ]
  },
  {
   "cell_type": "code",
   "execution_count": null,
   "metadata": {},
   "outputs": [],
   "source": [
    "# visualize some images\n",
    "fig = plt.figure(figsize=[6,6])\n",
    "for i in range(36):\n",
    "    ax = plt.subplot(6,6,i+1)    \n",
    "    ind = np.random.randint(0,train_data.shape[0])\n",
    "    plt.imshow(train_data[ind,:].reshape((28,28)),cmap='Greys')\n",
    "    plt.xticks([])\n",
    "    plt.yticks([])\n",
    "    t = plt.title(classes[int(train_label[ind])])\n",
    "plt.tight_layout()"
   ]
  },
  {
   "cell_type": "code",
   "execution_count": null,
   "metadata": {},
   "outputs": [],
   "source": [
    "#  Train Neural Network\n",
    "# set the number of nodes in input unit (not including bias unit)\n",
    "n_input = train_data.shape[1]\n",
    "\n",
    "# set the number of nodes in hidden unit or M (not including bias unit)\n",
    "n_hidden = 50 # you can modify this parameter\n",
    "\n",
    "# set the number of nodes in output unit\n",
    "n_class = len(np.unique(train_label)) # this parameter is fixed\n",
    "\n",
    "# initialize the weights into some random matrices\n",
    "initial_W1 = nnFunctions.initializeWeights(n_input, n_hidden)\n",
    "initial_W2 = nnFunctions.initializeWeights(n_hidden, n_class)\n",
    "\n",
    "# unroll 2 weight matrices into single column vector\n",
    "initialWeights = np.concatenate((initial_W1.flatten(), initial_W2.flatten()), 0)\n",
    "\n",
    "# set the regularization hyper-parameter\n",
    "lambdaval = 0 # you can modify this parameter\n",
    "\n",
    "args = (n_input, n_hidden, n_class, train_data, train_label, lambdaval)\n",
    "\n",
    "# Train Neural Network using fmin_cg or minimize from scipy,optimize module. \n",
    "# Check documentation for a working example\n",
    "opts = {'maxiter': 50}  # Preferred value.\n",
    "st = time.time()\n",
    "nn_params = minimize(nnFunctions.nnObjFunction, initialWeights, jac=True, args=args, method='CG', options=opts)\n",
    "en = time.time()\n",
    "# Reshape nnParams from 1D vector into W1 and W2 matrices\n",
    "W1 = nn_params.x[0:n_hidden * (n_input + 1)].reshape((n_hidden, (n_input + 1)))\n",
    "W2 = nn_params.x[(n_hidden * (n_input + 1)):].reshape((n_class, (n_hidden + 1)))\n",
    "print(\"Training completed in {:.2f} seconds.\".format(en-st))\n",
    "\n",
    "# Test the computed parameters\n",
    "\n",
    "# find the accuracy on Training Dataset\n",
    "predicted_label = nnFunctions.nnPredict(W1, W2, train_data)\n",
    "print('Training set Accuracy: {:.2f}%'.format(100 * np.mean((predicted_label == train_label.astype(float)))))\n",
    "\n",
    "# find the accuracy on Testing Dataset\n",
    "predicted_label = nnFunctions.nnPredict(W1, W2, test_data)\n",
    "print('Test set Accuracy    : {:.2f}%'.format(100 * np.mean((predicted_label == test_label.astype(float)))))"
   ]
  },
  {
   "cell_type": "code",
   "execution_count": null,
   "metadata": {},
   "outputs": [],
   "source": [
    "# visualize prediction on a random image\n",
    "rnd_ind = np.random.randint(test_label.shape[0])\n",
    "predicted_label = nnFunctions.nnPredict(W1,W2,test_data[rnd_ind:rnd_ind+1,:])\n",
    "if predicted_label[0] == test_label[rnd_ind]:\n",
    "    params = {\"text.color\" : \"green\"}\n",
    "else:\n",
    "    params = {\"text.color\" : \"red\"}\n",
    "plt.rcParams.update(params)\n",
    "\n",
    "plt.imshow(test_data[rnd_ind,:].reshape((28,28)),cmap='Greys')\n",
    "t = plt.title('True - {}, Predicted - {}'.format(classes[int(test_label[rnd_ind])],classes[int(predicted_label[0])]))"
   ]
  }
 ],
 "metadata": {
  "kernelspec": {
   "display_name": "Python 3",
   "language": "python",
   "name": "python3"
  },
  "language_info": {
   "codemirror_mode": {
    "name": "ipython",
    "version": 3
   },
   "file_extension": ".py",
   "mimetype": "text/x-python",
   "name": "python",
   "nbconvert_exporter": "python",
   "pygments_lexer": "ipython3",
   "version": "3.7.3"
  }
 },
 "nbformat": 4,
 "nbformat_minor": 4
}
