{
 "cells": [
  {
   "cell_type": "markdown",
   "metadata": {},
   "source": [
    "# CSE474/574 - Programming Assignment 2"
   ]
  },
  {
   "cell_type": "markdown",
   "metadata": {},
   "source": [
    "## Part 3 - Image Classification with Deep[er] neural networks\n",
    "\n",
    "For this part, we will use `keras` with a `tensorflow` backend, instead of directly using `tensorflow`, as in Part 1. See [here](https://anaconda.org/conda-forge/keras) for installation instructions."
   ]
  },
  {
   "cell_type": "code",
   "execution_count": null,
   "metadata": {},
   "outputs": [],
   "source": [
    "from __future__ import print_function\n",
    "from keras.models import Sequential\n",
    "from keras.layers import Dense, Activation\n",
    "\n",
    "import numpy as np\n",
    "import random as rd\n",
    "import time\n",
    "import pickle\n",
    "import os\n",
    "from PIL import Image\n",
    "#os.environ[\"CUDA_VISIBLE_DEVICES\"]=\"1\"\n",
    "import matplotlib.pyplot as plt\n",
    "%matplotlib inline"
   ]
  },
  {
   "cell_type": "code",
   "execution_count": null,
   "metadata": {},
   "outputs": [],
   "source": [
    "classes = ['apple', 'airplane', 'basketball', 'axe', 'banana', 'horse', 'arm', 'alarm clock', 'ant', 'bed']"
   ]
  },
  {
   "cell_type": "code",
   "execution_count": null,
   "metadata": {},
   "outputs": [],
   "source": [
    "# load data\n",
    "train_data,train_label,test_data,test_label = pickle.load(open('AI_quick_draw_sm.pickle','rb'))"
   ]
  },
  {
   "cell_type": "code",
   "execution_count": null,
   "metadata": {},
   "outputs": [],
   "source": [
    "# for some macosx installations, conflicting copies of mpilib causes trouble with tensorflow.\n",
    "# use the following two lines to resolve that issue\n",
    "import os\n",
    "os.environ['KMP_DUPLICATE_LIB_OK']='True'"
   ]
  },
  {
   "cell_type": "code",
   "execution_count": null,
   "metadata": {},
   "outputs": [],
   "source": [
    "n_classes = len(np.unique(train_label))\n",
    "# convert labels to 0-1 hot encoding\n",
    "train_label_01 = np.zeros((train_label.shape[0], n_classes))\n",
    "a = np.arange(train_label.shape[0], dtype=np.int64)\n",
    "b = np.array(train_label, dtype=np.int64).reshape((train_label.shape[0],))\n",
    "train_label_01[a, b] = 1\n",
    "\n",
    "test_label_01 = np.zeros((test_label.shape[0], n_classes))\n",
    "c = np.arange(test_label.shape[0], dtype=np.int64)\n",
    "d = np.array(test_label, dtype=np.int64).reshape((test_label.shape[0],))\n",
    "test_label_01[c, d] = 1"
   ]
  },
  {
   "cell_type": "markdown",
   "metadata": {},
   "source": [
    "**WARNING**: This cell will take a significantly long time to run"
   ]
  },
  {
   "cell_type": "code",
   "execution_count": null,
   "metadata": {
    "scrolled": true
   },
   "outputs": [],
   "source": [
    "model = Sequential()\n",
    "M = 100\n",
    "L = 1\n",
    "activation = 'sigmoid' # other options 'relu', 'tanh'\n",
    "# this is the first hidden layer\n",
    "model.add(Dense(M, activation=activation, input_dim=train_data.shape[1]))\n",
    "# you can add more Dense layers here\n",
    "for l in range(1,L):\n",
    "    model.add(Dense(M, activation=activation, input_dim=M))\n",
    "# this is the output layer\n",
    "model.add(Dense(n_classes, activation='softmax'))\n",
    "model.compile(optimizer='rmsprop',\n",
    "              loss='categorical_crossentropy',\n",
    "              metrics=['accuracy'])"
   ]
  },
  {
   "cell_type": "code",
   "execution_count": null,
   "metadata": {},
   "outputs": [],
   "source": [
    "model.summary()"
   ]
  },
  {
   "cell_type": "code",
   "execution_count": null,
   "metadata": {},
   "outputs": [],
   "source": [
    "st = time.time()\n",
    "model.fit(train_data, train_label_01, epochs=50, batch_size=32)\n",
    "en = time.time()\n",
    "print(\"Training completed in {:.2f} seconds.\".format(en-st))"
   ]
  },
  {
   "cell_type": "code",
   "execution_count": null,
   "metadata": {},
   "outputs": [],
   "source": [
    "train_predicted = model.predict_classes(train_data)\n",
    "acc_train = np.where(train_label == train_predicted)[0].shape[0]/train_data.shape[0]\n",
    "print('Training set Accuracy: {:.2f}%'.format(100 * acc_train))\n",
    "\n",
    "test_predicted = model.predict_classes(test_data)\n",
    "acc_test = np.where(test_label == test_predicted)[0].shape[0]/test_data.shape[0]\n",
    "print('Testing set Accuracy : {:.2f}%'.format(100 * acc_test))"
   ]
  }
 ],
 "metadata": {
  "kernelspec": {
   "display_name": "Python 3",
   "language": "python",
   "name": "python3"
  },
  "language_info": {
   "codemirror_mode": {
    "name": "ipython",
    "version": 3
   },
   "file_extension": ".py",
   "mimetype": "text/x-python",
   "name": "python",
   "nbconvert_exporter": "python",
   "pygments_lexer": "ipython3",
   "version": "3.7.3"
  }
 },
 "nbformat": 4,
 "nbformat_minor": 4
}
